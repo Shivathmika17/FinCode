{
  "nbformat": 4,
  "nbformat_minor": 0,
  "metadata": {
    "colab": {
      "provenance": []
    },
    "kernelspec": {
      "name": "python3",
      "display_name": "Python 3"
    },
    "language_info": {
      "name": "python"
    }
  },
  "cells": [
    {
      "cell_type": "code",
      "source": [
        "import pandas as pd\n",
        "\n",
        "def get_list(column_name):\n",
        "    # Path to the CSV file\n",
        "    csv_path = './retail_sales_dataset.csv'\n",
        "\n",
        "    try:\n",
        "      # Read the CSV file into a DataFrame\n",
        "      df = pd.read_csv(csv_path)\n",
        "\n",
        "      # Check if the specified column exists in the DataFrame\n",
        "      if column_name in df.columns:\n",
        "        # Return the column data as a list\n",
        "        return df[column_name].tolist()\n",
        "      else:\n",
        "        # If the column does not exist, raise an error\n",
        "        raise ValueError(\"Column name not found in the DataFrame\")\n",
        "    except Exception as e:\n",
        "      # Print any error that occurs during the process\n",
        "      print(f\"An error occurred: {e}\")\n",
        "\n"
      ],
      "metadata": {
        "id": "IGy93ERGjMn2"
      },
      "execution_count": null,
      "outputs": []
    },
    {
      "cell_type": "code",
      "source": [
        "Transaction_ID = get_list(\"Transaction ID\")\n",
        "date = get_list(\"Date\")\n",
        "Customer_ID = get_list(\"Customer ID\")\n",
        "Gender = get_list(\"Gender\")\n",
        "Age = get_list(\"Age\")\n",
        "Product_Category = get_list(\"Product Category\")\n",
        "Quantity = get_list(\"Quantity\")\n",
        "prices_per_unit = get_list(\"Price per Unit\")\n",
        "Total_Amount = get_list(\"Total Amount\")"
      ],
      "metadata": {
        "id": "W7EjlOSNa80d"
      },
      "execution_count": null,
      "outputs": []
    },
    {
      "cell_type": "code",
      "source": [
        "# print the first element of each list\n",
        "print(\"Transaction_ID\", Transaction_ID[0])\n",
        "print(\"date\", date[0])\n",
        "print(\"Customer_ID\", Customer_ID[0])\n",
        "print(\"Gender\", Gender[0])\n",
        "print(\"Age\", Age[0])\n",
        "print(\"Product_Category\", Product_Category[0])\n",
        "print(\"Quantity\", Quantity[0])\n",
        "print(\"prices_per_unit\", prices_per_unit[0])\n",
        "print(\"Total_Amount\", Total_Amount[0])"
      ],
      "metadata": {
        "colab": {
          "base_uri": "https://localhost:8080/"
        },
        "id": "5kAfVCLzc0h_",
        "outputId": "2910e056-a966-42e3-d3c4-be18e58fc37c"
      },
      "execution_count": null,
      "outputs": [
        {
          "output_type": "stream",
          "name": "stdout",
          "text": [
            "Transaction_ID 1\n",
            "date 2023-11-24\n",
            "Customer_ID CUST001\n",
            "Gender Male\n",
            "Age 34\n",
            "Product_Category Beauty\n",
            "Quantity 3\n",
            "prices_per_unit 50\n",
            "Total_Amount 150\n"
          ]
        }
      ]
    },
    {
      "cell_type": "code",
      "source": [
        "# Exercise 1: Number of observations\n",
        "# Use the next cell to find the length of the list Transaction_ID. Save it in the variable num_observations.\n",
        "\n",
        "num_observations = len(Transaction_ID)\n",
        "print(num_observations)"
      ],
      "metadata": {
        "colab": {
          "base_uri": "https://localhost:8080/"
        },
        "id": "iOPbmn8Bfcrj",
        "outputId": "5e20368d-377c-45f2-b18a-6957da9d9bb4"
      },
      "execution_count": null,
      "outputs": [
        {
          "output_type": "stream",
          "name": "stdout",
          "text": [
            "1000\n"
          ]
        }
      ]
    },
    {
      "cell_type": "code",
      "source": [
        "# Print the length of all the items in the list\n",
        "\n",
        "\n",
        "print(\"Transaction_ID: \", len(Transaction_ID))\n",
        "print(\"date: \", len(date))\n",
        "print(\"Customer_ID: \", len(Customer_ID))\n",
        "print(\"Gender: \", len(Gender))\n",
        "print(\"Age: \", len(Age))\n",
        "print(\"Product_Category: \", len(Product_Category))\n",
        "print(\"Quantity: \", len(Quantity))\n",
        "print(\"prices_per_unit: \", len(prices_per_unit))\n",
        "print(\"Total_Amount: \", len(Total_Amount))"
      ],
      "metadata": {
        "colab": {
          "base_uri": "https://localhost:8080/"
        },
        "id": "rJGndzWehPgB",
        "outputId": "39c9c43a-bd7a-4480-d951-813bf817302e"
      },
      "execution_count": null,
      "outputs": [
        {
          "output_type": "stream",
          "name": "stdout",
          "text": [
            "Transaction_ID:  1000\n",
            "date:  1000\n",
            "Customer_ID:  1000\n",
            "Gender:  1000\n",
            "Age:  1000\n",
            "Product_Category:  1000\n",
            "Quantity:  1000\n",
            "prices_per_unit:  1000\n",
            "Total_Amount:  1000\n"
          ]
        }
      ]
    },
    {
      "cell_type": "code",
      "source": [
        "# Print the types of the variables `Transaction_ID` and `Gender`.\n",
        "\n",
        "print(\"Transaction_ID:\", type(Transaction_ID))\n",
        "print(\"Gender:\", type(Gender))"
      ],
      "metadata": {
        "colab": {
          "base_uri": "https://localhost:8080/"
        },
        "id": "9qmQkhsJh1DH",
        "outputId": "92205a00-82aa-490b-d9b1-08fd76098d71"
      },
      "execution_count": null,
      "outputs": [
        {
          "output_type": "stream",
          "name": "stdout",
          "text": [
            "Transaction_ID: <class 'list'>\n",
            "Gender: <class 'list'>\n"
          ]
        }
      ]
    },
    {
      "cell_type": "code",
      "source": [
        "# Print the type of the first element of each list.\n",
        "\n",
        "print(\"Transaction_ID:\", type(Transaction_ID[0]))\n",
        "print(\"date:\", type(date[0]))\n",
        "print(\"Customer_ID:\", type(Customer_ID[0]))\n",
        "print(\"Gender:\", type(Gender[0]))\n",
        "print(\"Age:\", type(Age[0]))\n",
        "print(\"Product_Category:\", type(Product_Category[0]))\n",
        "print(\"Quantity:\", type(Quantity[0]))\n",
        "print(\"prices_per_unit:\", type(prices_per_unit[0]))\n",
        "\n"
      ],
      "metadata": {
        "colab": {
          "base_uri": "https://localhost:8080/"
        },
        "id": "2oIcxkpyigED",
        "outputId": "a76d60b9-9243-4fc5-8af8-a79137e115aa"
      },
      "execution_count": null,
      "outputs": [
        {
          "output_type": "stream",
          "name": "stdout",
          "text": [
            "Transaction_ID: <class 'int'>\n",
            "date: <class 'str'>\n",
            "Customer_ID: <class 'str'>\n",
            "Gender: <class 'str'>\n",
            "Age: <class 'int'>\n",
            "Product_Category: <class 'str'>\n",
            "Quantity: <class 'int'>\n",
            "prices_per_unit: <class 'int'>\n"
          ]
        }
      ]
    },
    {
      "cell_type": "code",
      "source": [
        "# Define a variable highest_price and use an appropriate function to find the maximum price.\n",
        "# Define a variable lowest_price and use an appropriate function to find the minimum price.\n",
        "# Define a variable called `price_range` and calculate the difference between the highest and the lowest price.\n",
        "\n",
        "highest_price = max(prices_per_unit)\n",
        "lowest_price = min(prices_per_unit)\n",
        "price_range = highest_price - lowest_price\n",
        "\n",
        "print(\"Highest price :\" , highest_price)\n",
        "print(\"Lowest price:\", lowest_price)\n",
        "print(\"price range:\", price_range)"
      ],
      "metadata": {
        "colab": {
          "base_uri": "https://localhost:8080/"
        },
        "id": "E3RPdOZplBOu",
        "outputId": "d155434b-0d65-4171-a8b6-0b214d5ad73e"
      },
      "execution_count": null,
      "outputs": [
        {
          "output_type": "stream",
          "name": "stdout",
          "text": [
            "Highest price : 500\n",
            "Lowest price: 25\n",
            "price range: 475\n"
          ]
        }
      ]
    },
    {
      "cell_type": "code",
      "source": [
        "# Total number of units sold and save it in the variable total_units_sold\n",
        "\n",
        "total_units_sold = sum(Quantity)\n",
        "print(\"Total units sold:\", total_units_sold)\n"
      ],
      "metadata": {
        "colab": {
          "base_uri": "https://localhost:8080/"
        },
        "id": "Kyn86NiflGsD",
        "outputId": "64170f67-5c2d-4bc4-fdc7-c9f3bb294aa3"
      },
      "execution_count": null,
      "outputs": [
        {
          "output_type": "stream",
          "name": "stdout",
          "text": [
            "Total units sold: 2514\n"
          ]
        }
      ]
    },
    {
      "cell_type": "code",
      "source": [
        "# Adding elements to the lists\n",
        "\n",
        "Transaction_ID.append(1001)\n",
        "date.append(\"2023-08-01\")\n",
        "Customer_ID.append(\"1001\")\n",
        "Gender.append(\"Female\")\n",
        "Age.append(100)\n",
        "Product_Category.append(\"Clothing\")\n",
        "Quantity.append(3)\n",
        "prices_per_unit.append(1000)\n",
        "\n"
      ],
      "metadata": {
        "id": "vRU2tsOZpZ-d"
      },
      "execution_count": null,
      "outputs": []
    },
    {
      "cell_type": "markdown",
      "source": [
        "# New Section"
      ],
      "metadata": {
        "id": "X59J3chUdy54"
      }
    },
    {
      "cell_type": "code",
      "source": [
        "print(\"The new length of the Transaction_ID is:\", len(Transaction_ID))"
      ],
      "metadata": {
        "colab": {
          "base_uri": "https://localhost:8080/"
        },
        "id": "oFUgjL91It-1",
        "outputId": "0dd399ac-7229-473d-e5f1-7c308781a448"
      },
      "execution_count": null,
      "outputs": [
        {
          "output_type": "stream",
          "name": "stdout",
          "text": [
            "The new length of the Transaction_ID is: 1001\n"
          ]
        }
      ]
    },
    {
      "cell_type": "code",
      "source": [
        "# Update the number of observations\n",
        "num_observations = len(Transaction_ID)"
      ],
      "metadata": {
        "id": "AMG6YHCVKhKe"
      },
      "execution_count": null,
      "outputs": []
    },
    {
      "cell_type": "code",
      "source": [
        "# Finding the sales amount\n",
        "\n",
        "# First, define an empty list. You will be adding the amounts to this list\n",
        "amounts = []\n",
        "\n",
        "for i in range(num_observations):\n",
        "   # calculate the sale amount for observation i\n",
        "   sale_amount = Quantity[i] * prices_per_unit[i]\n",
        "   # add the sale amount to the list\n",
        "   amounts.append(sale_amount)\n",
        "\n",
        "\n",
        "\n"
      ],
      "metadata": {
        "id": "xnyzDA3LKEGH"
      },
      "execution_count": null,
      "outputs": []
    },
    {
      "cell_type": "code",
      "source": [
        "# Print the first 5 elements to see everything worked well\n",
        "print(\"First 5 itmes of Quantity sold is:\", Quantity[0:5])\n",
        "print(\"First 5 items of prices_per_unit:\", prices_per_unit[0:5])\n",
        "print(\"First 5 items of amounts:\", amounts [0:5])"
      ],
      "metadata": {
        "colab": {
          "base_uri": "https://localhost:8080/"
        },
        "id": "yXwUkZTRKSaz",
        "outputId": "cf98631a-f84d-4b26-89c2-dfe7fad6e97b"
      },
      "execution_count": null,
      "outputs": [
        {
          "output_type": "stream",
          "name": "stdout",
          "text": [
            "First 5 itmes of Quantity sold is: [3, 2, 1, 1, 2]\n",
            "First 5 items of prices_per_unit: [50, 500, 30, 500, 50]\n",
            "First 5 items of amounts: [150, 1000, 30, 500, 100]\n"
          ]
        }
      ]
    },
    {
      "cell_type": "code",
      "source": [
        "# Total and average amounts\n",
        "total_amount = sum(amounts)\n",
        "total_quantity = sum(Quantity)\n",
        "\n",
        "average_amount = total_amount/ total_quantity\n",
        "\n",
        "print(\"Total amount is:\", total_amount)\n",
        "print(\"Average amount is:\", average_amount)"
      ],
      "metadata": {
        "colab": {
          "base_uri": "https://localhost:8080/"
        },
        "id": "GD9d3csWLk21",
        "outputId": "4e2b61c8-2010-4263-b9b0-8b26d7bf46ab"
      },
      "execution_count": null,
      "outputs": [
        {
          "output_type": "stream",
          "name": "stdout",
          "text": [
            "Total amount is: 459000\n",
            "Average amount is: 182.35995232419546\n"
          ]
        }
      ]
    },
    {
      "cell_type": "code",
      "source": [
        "# Find all the unique products\n",
        "unique_products=[]\n",
        "for Product_Category_item in Product_Category:\n",
        "  if Product_Category_item not in unique_products:\n",
        "    # If the expression holds True, then add the current product_name\n",
        "    # to the unique_products list\n",
        "    unique_products.append(Product_Category_item)\n"
      ],
      "metadata": {
        "id": "AHhYKatNPi7w"
      },
      "execution_count": null,
      "outputs": []
    },
    {
      "cell_type": "code",
      "source": [
        "print(\"There are \", len(unique_products), \" unique products:\")\n",
        "for Product_Category_item in unique_products:\n",
        "    print(\"Unique products:\", Product_Category_item )"
      ],
      "metadata": {
        "colab": {
          "base_uri": "https://localhost:8080/"
        },
        "id": "Trvzflk-R1vV",
        "outputId": "a27e6503-5742-445c-ffdb-c97f681dcd11"
      },
      "execution_count": null,
      "outputs": [
        {
          "output_type": "stream",
          "name": "stdout",
          "text": [
            "There are  3  unique products:\n",
            "Unique products: Beauty\n",
            "Unique products: Clothing\n",
            "Unique products: Electronics\n"
          ]
        }
      ]
    },
    {
      "cell_type": "code",
      "source": [
        "# Sales amount and number of sold units per product\n",
        "# Create three empty lists to fill with the number of units sold\n",
        "units_per_sale_beauty = []\n",
        "units_per_sale_clothing = []\n",
        "units_per_sale_electronics = []\n",
        "\n",
        "# Iterate over each product\n",
        "for i in range(num_observations):\n",
        "  Product_Category_item = Product_Category[i]\n",
        "\n",
        "  # Using an if statement, check if the product_category at index i matches \"Beauty\"\n",
        "  if Product_Category_item == \"Beauty\":\n",
        "    # If true, append the number of units sold to units_per_sale_beauty\n",
        "    units_per_sale_beauty.append(Quantity[i])\n",
        "\n",
        "  if Product_Category_item == \"Clothing\":\n",
        "    # If true, append the number of units sold to units_per_sale_clothing\n",
        "    units_per_sale_clothing.append(Quantity[i])\n",
        "\n",
        "  elif Product_Category_item == \"Electronics\":\n",
        "    # If true, append the number of units sold to units_per_sale_electronics\n",
        "    units_per_sale_electronics.append(Quantity[i])"
      ],
      "metadata": {
        "id": "_NWlT3ntU1Br"
      },
      "execution_count": null,
      "outputs": []
    },
    {
      "cell_type": "code",
      "metadata": {
        "colab": {
          "base_uri": "https://localhost:8080/"
        },
        "id": "869b03ea",
        "outputId": "8fd43e07-7bcc-46f9-8fd3-89ab1d57b0dc"
      },
      "source": [
        "# Print your results\n",
        "print(\"The number of units of Beauty sold:\", sum(units_per_sale_beauty))\n",
        "print(\"The number of units of Clothing:\", sum(units_per_sale_clothing))\n",
        "print(\"The number of units of ELectronics:\", sum(units_per_sale_electronics))"
      ],
      "execution_count": null,
      "outputs": [
        {
          "output_type": "stream",
          "name": "stdout",
          "text": [
            "The number of units of Beauty sold: 771\n",
            "The number of units of Clothing: 897\n",
            "The number of units of ELectronics: 849\n"
          ]
        }
      ]
    }
  ]
}